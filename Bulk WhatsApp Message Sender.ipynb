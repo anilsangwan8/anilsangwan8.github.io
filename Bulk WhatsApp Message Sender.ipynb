{
 "cells": [
  {
   "cell_type": "code",
   "execution_count": 12,
   "metadata": {},
   "outputs": [],
   "source": [
    "import numpy as np\n",
    "import pandas as pd\n",
    "import seaborn as sns\n",
    "import matplotlib.pyplot as plt\n",
    "import matplotlib.image as mpimg \n",
    "import matplotlib.pyplot as plt \n",
    "%matplotlib inline"
   ]
  },
  {
   "cell_type": "markdown",
   "metadata": {},
   "source": [
    "### Give Inputs"
   ]
  },
  {
   "cell_type": "code",
   "execution_count": 24,
   "metadata": {},
   "outputs": [
    {
     "name": "stdout",
     "output_type": "stream",
     "text": [
      "[919812090044, 919466838288]\n"
     ]
    },
    {
     "data": {
      "text/plain": [
       "'Hi Hello'"
      ]
     },
     "execution_count": 24,
     "metadata": {},
     "output_type": "execute_result"
    }
   ],
   "source": [
    "### List of contacts\n",
    "fh = pd.read_csv(r'test_numbers.csv')\n",
    "moblie_no_list = list(fh['Your phone'])\n",
    "\n",
    "print(moblie_no_list[:5])\n",
    "\n",
    "#message_text = r'C:\\Users\\lenovo\\Desktop\\Capture.JPG'\n",
    "\n",
    "message_text = \"Hi Hello\"\n",
    "\n",
    "message_text"
   ]
  },
  {
   "cell_type": "markdown",
   "metadata": {},
   "source": [
    "### Initiate Whatsapp"
   ]
  },
  {
   "cell_type": "code",
   "execution_count": 21,
   "metadata": {},
   "outputs": [],
   "source": [
    "from time import sleep\n",
    "from selenium.webdriver.common.by import By\n",
    "from selenium import webdriver\n",
    "from selenium.webdriver.common.keys import Keys\n",
    "from selenium.webdriver.support import expected_conditions as EC\n",
    "from selenium.common.exceptions import TimeoutException\n",
    "from selenium.webdriver.support.ui import WebDriverWait\n",
    "import socket\n",
    "import csv\n",
    "\n",
    "no_of_message = 1\n",
    "# no. of time you want the message to be send\n",
    "\n",
    "\n",
    "def element_presence(by, xpath, time):\n",
    "\n",
    "    element_present = EC.presence_of_element_located((By.XPATH, xpath))\n",
    "    WebDriverWait(driver, time).until(element_present)\n",
    "\n",
    "\n",
    "def is_connected():\n",
    "   \n",
    "    try:\n",
    "        # connect to the host -- tells us if the host is actually reachable\n",
    "        socket.create_connection((\"www.google.com\", 80))\n",
    "        return True\n",
    "    except BaseException:\n",
    "        is_connected()\n",
    "\n",
    "\n",
    "driver = webdriver.Chrome(executable_path=\"chromedriver.exe\")\n",
    "driver.get(\"http://web.whatsapp.com\")\n",
    "#sleep(10)"
   ]
  },
  {
   "cell_type": "markdown",
   "metadata": {},
   "source": [
    "### To send Text Messages "
   ]
  },
  {
   "cell_type": "code",
   "execution_count": 28,
   "metadata": {},
   "outputs": [
    {
     "name": "stderr",
     "output_type": "stream",
     "text": [
      "C:\\Users\\lenovo\\Anaconda3\\lib\\site-packages\\ipykernel_launcher.py:6: DeprecationWarning: use driver.switch_to.alert instead\n",
      "  \n"
     ]
    },
    {
     "name": "stdout",
     "output_type": "stream",
     "text": [
      "Invailid phone no :919466838288   Message: \n",
      "\n"
     ]
    }
   ],
   "source": [
    "def send_whatsapp_msg(phone_no, text):\n",
    "   \n",
    "    driver.get(\"https://web.whatsapp.com/send?phone={}&source=&data=#\".format(phone_no))\n",
    "\n",
    "    try:\n",
    "        driver.switch_to_alert().accept()\n",
    "\n",
    "    except Exception as e:\n",
    "        pass\n",
    "\n",
    "    try:\n",
    "        element_presence(\n",
    "            By.XPATH,\n",
    "            '//*[@id=\"main\"]/footer/div[1]/div[2]/div/div[2]',35)\n",
    "        txt_box = driver.find_element(\n",
    "            By.XPATH, '//*[@id=\"main\"]/footer/div[1]/div[2]/div/div[2]')\n",
    "        global no_of_message\n",
    "        for x in range(no_of_message):\n",
    "            txt_box.send_keys(text)\n",
    "            txt_box.send_keys(\"\\n\")\n",
    "            sleep(40)\n",
    "\n",
    "    except Exception as e:\n",
    "        print(\"Invailid phone no :\" + str(phone_no),\" \",e)\n",
    "\n",
    "\n",
    "def main():\n",
    "    \n",
    "    for moblie_no in moblie_no_list:\n",
    "        try:\n",
    "            send_whatsapp_msg(phone_no=moblie_no, text=message_text)\n",
    "\n",
    "        except Exception as e:\n",
    "            sleep(30)\n",
    "            is_connected()\n",
    "\n",
    "\n",
    "if __name__ == '__main__':\n",
    "    main()"
   ]
  },
  {
   "cell_type": "markdown",
   "metadata": {},
   "source": [
    "### To send Images "
   ]
  },
  {
   "cell_type": "code",
   "execution_count": 15,
   "metadata": {},
   "outputs": [
    {
     "name": "stderr",
     "output_type": "stream",
     "text": [
      "C:\\Users\\lenovo\\Anaconda3\\lib\\site-packages\\ipykernel_launcher.py:6: DeprecationWarning: use driver.switch_to.alert instead\n",
      "  \n"
     ]
    },
    {
     "name": "stdout",
     "output_type": "stream",
     "text": [
      "Invailid phone no :919813241179   Message: \n",
      "\n",
      "Invailid phone no :919654343015   Message: \n",
      "\n",
      "Invailid phone no :919812502984   Message: \n",
      "\n"
     ]
    }
   ],
   "source": [
    "def send_whatsapp_msg(phone_no, text):\n",
    "   \n",
    "    driver.get(\"https://web.whatsapp.com/send?phone={}&source=&data=#\".format(phone_no))\n",
    "\n",
    "    try:\n",
    "        driver.switch_to_alert().accept()\n",
    "\n",
    "    except Exception as e:\n",
    "        pass\n",
    "\n",
    "    try:\n",
    "        element_presence(\n",
    "            By.XPATH,\n",
    "            '//*[@id=\"main\"]/footer/div[1]/div[2]/div/div[2]',15)\n",
    "        \n",
    "        attch_box = driver.find_element_by_xpath('//div[@title = \"Attach\"]')\n",
    "        attch_box.click()\n",
    "        \n",
    "        img_box = driver.find_element_by_xpath('//input[@accept = \"image/*,video/mp4,video/3gpp,video/quicktime\"]')\n",
    "        img_box.send_keys(message_text)\n",
    "        sleep(5)\n",
    "        send_button = driver.find_element_by_xpath('//span[@data-icon=\"send\"]')\n",
    "        send_button.click()\n",
    "        sleep(12)\n",
    "              \n",
    "    except Exception as e:\n",
    "        print(\"Invailid phone no :\" + str(phone_no),\" \",e)\n",
    "\n",
    "\n",
    "def main():\n",
    "    \n",
    "    for moblie_no in moblie_no_list:\n",
    "        try:\n",
    "            send_whatsapp_msg(phone_no=moblie_no, text=message_text)\n",
    "\n",
    "        except Exception as e:\n",
    "            sleep(10)\n",
    "            is_connected()\n",
    "\n",
    "\n",
    "if __name__ == '__main__':\n",
    "    main()"
   ]
  },
  {
   "cell_type": "code",
   "execution_count": null,
   "metadata": {},
   "outputs": [],
   "source": []
  },
  {
   "cell_type": "code",
   "execution_count": null,
   "metadata": {},
   "outputs": [],
   "source": []
  },
  {
   "cell_type": "code",
   "execution_count": null,
   "metadata": {},
   "outputs": [],
   "source": []
  }
 ],
 "metadata": {
  "kernelspec": {
   "display_name": "Python 3",
   "language": "python",
   "name": "python3"
  },
  "language_info": {
   "codemirror_mode": {
    "name": "ipython",
    "version": 3
   },
   "file_extension": ".py",
   "mimetype": "text/x-python",
   "name": "python",
   "nbconvert_exporter": "python",
   "pygments_lexer": "ipython3",
   "version": "3.7.3"
  }
 },
 "nbformat": 4,
 "nbformat_minor": 2
}
